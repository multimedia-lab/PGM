{
 "cells": [
  {
   "cell_type": "code",
   "execution_count": 15,
   "id": "678855c8-30b2-4bbb-bf89-933fb5c9f19f",
   "metadata": {
    "tags": []
   },
   "outputs": [],
   "source": [
    "import torch\n",
    "import torch.nn as nn\n",
    "import torch.nn.functional as F\n",
    "from torch.utils.data import DataLoader\n",
    "from torchvision.datasets import MNIST\n",
    "from torchvision.transforms import ToTensor\n",
    "import torchvision\n",
    "import matplotlib.pyplot as plt"
   ]
  },
  {
   "cell_type": "markdown",
   "id": "ba46a695-109c-4937-a781-961c3d7d94a5",
   "metadata": {},
   "source": [
    "# Variational Autoencoder (VAE)\n",
    "## Introduction:\n",
    "<p>Variational Autoencoder (VAE) is a type of generative model that can learn a low-dimensional representation of the data and generate new data samples from the learned latent space. VAEs are a type of autoencoder, which is a neural network architecture that can learn to encode the input data into a low-dimensional representation and then decode it back to the original data.</p>\n",
    "\n",
    "### Encoder: \n",
    "The first step in implementing a VAE is to design an encoder neural network that maps the input data to a distribution in the latent space. The encoder typically consists of several layers of neurons that apply linear and non-linear transformations to the input data.\n",
    "The encoder takes an input x and maps it to the mean mu and standard deviation log_var of a normal distribution in the latent space. The encoder consists of two fully connected layers with ReLU activation function followed by two output layers for mu and log_var. The formulas for the encoder are:\n",
    "### Latent Space: \n",
    "The latent space is a low-dimensional representation of the input data that captures the most important features of the data. The size of the latent space is a hyperparameter that needs to be chosen based on the complexity of the data and the desired level of compression.\n",
    "Sampling: After the encoder maps the input data to the latent space, a sample is drawn from the distribution in the latent space. This sample is used as input to the decoder, which generates the output data.\n",
    "### Decoder: \n",
    "The decoder is a neural network that takes the sample from the latent space and maps it back to the original data space. The decoder typically consists of several layers of neurons that apply linear and non-linear transformations to the sample.\n",
    "The decoder takes a point z from the latent space and maps it back to the original input space. The decoder consists of two fully connected layers with ReLU activation function followed by an output layer with sigmoid activation function\n",
    "### Loss Function: \n",
    "The loss function in VAE consists of two parts: the reconstruction loss and the KL divergence loss. The reconstruction loss measures the difference between the input data and the reconstructed output, while the KL divergence loss regularizes the learned distribution in the latent space.\n",
    "The loss function for VAE consists of two parts: the reconstruction loss and the KL divergence loss. The reconstruction loss measures the difference between the input x and the output x_hat obtained from the decoder. The KL divergence loss measures the difference between the latent distribution and the standard normal distribution.\n",
    "\n"
   ]
  },
  {
   "cell_type": "markdown",
   "id": "50facbf2-466f-40cb-90ca-5f3c881f0372",
   "metadata": {},
   "source": [
    "## Implementation of VAE"
   ]
  },
  {
   "cell_type": "code",
   "execution_count": 3,
   "id": "3718df20-bef5-4779-8043-ba2dccbc7b31",
   "metadata": {
    "tags": []
   },
   "outputs": [],
   "source": [
    "class VAE(nn.Module):\n",
    "    def __init__(self, latent_dim):\n",
    "        super(VAE, self).__init__()\n",
    "        self.latent_dim = latent_dim\n",
    "        self.encoder = nn.Sequential(\n",
    "            nn.Conv2d(1, 32, kernel_size=3, stride=1, padding=1),\n",
    "            nn.ReLU(),\n",
    "            nn.Conv2d(32, 64, kernel_size=3, stride=2, padding=1),\n",
    "            nn.ReLU(),\n",
    "            nn.Conv2d(64, 128, kernel_size=3, stride=2, padding=1),\n",
    "            nn.ReLU(),\n",
    "            nn.Conv2d(128, 256, kernel_size=3, stride=2, padding=1),\n",
    "            nn.ReLU(),\n",
    "            nn.Flatten(),\n",
    "            nn.Linear(256 * 4 * 4, 2 * latent_dim),\n",
    "        )\n",
    "        self.decoder = nn.Sequential(\n",
    "            nn.Linear(latent_dim, 256 * 4 * 4),\n",
    "            nn.Unflatten(-1, (256, 4, 4)),\n",
    "            nn.ConvTranspose2d(256, 128, kernel_size=4, stride=2, padding=1),\n",
    "            nn.ReLU(),\n",
    "            nn.ConvTranspose2d(128, 64, kernel_size=4, stride=2, padding=1),\n",
    "            nn.ReLU(),\n",
    "            nn.ConvTranspose2d(64, 32, kernel_size=4, stride=2, padding=1),\n",
    "            nn.ReLU(),\n",
    "            nn.ConvTranspose2d(32, 1, kernel_size=3, stride=1, padding=1),\n",
    "            nn.Sigmoid(),\n",
    "        )\n",
    "\n",
    "    def encode(self, x):\n",
    "        x = self.encoder(x)\n",
    "        mu, logvar = x.chunk(2, dim=-1)\n",
    "        return mu, logvar\n",
    "\n",
    "    def reparameterize(self, mu, logvar):\n",
    "        std = torch.exp(0.5 * logvar)\n",
    "        eps = torch.randn_like(std)\n",
    "        z = mu + eps * std\n",
    "        return z\n",
    "\n",
    "    def decode(self, z):\n",
    "        return self.decoder(z)\n",
    "\n",
    "    def forward(self, x):\n",
    "        mu, logvar = self.encode(x)\n",
    "        z = self.reparameterize(mu, logvar)\n",
    "        x_hat = self.decode(z)\n",
    "        return x_hat, mu, logvar"
   ]
  },
  {
   "cell_type": "markdown",
   "id": "3ae1fb8e-5358-4761-b0ba-8742313e1f54",
   "metadata": {
    "tags": []
   },
   "source": [
    "## Implementation of VAE loss function"
   ]
  },
  {
   "cell_type": "code",
   "execution_count": 4,
   "id": "379770ec-94ee-4475-9c41-dabe833c64ad",
   "metadata": {
    "tags": []
   },
   "outputs": [],
   "source": [
    "def vae_loss(x, x_hat, mu, logvar):\n",
    "    # reconstruction loss\n",
    "    recon_loss = F.binary_cross_entropy(x_hat, x, reduction='sum')\n",
    "\n",
    "    # regularization loss\n",
    "    kl_div = -0.5 * torch.sum(1 + logvar - mu.pow(2) - logvar.exp())\n",
    "\n",
    "    return recon_loss + kl_div"
   ]
  },
  {
   "cell_type": "markdown",
   "id": "f96fc9dc-d7db-4ee6-9737-058e4d03fd71",
   "metadata": {
    "tags": []
   },
   "source": [
    "## Loading data"
   ]
  },
  {
   "cell_type": "code",
   "execution_count": 6,
   "id": "74f2d063-aa64-43de-ac81-a44bb738d207",
   "metadata": {
    "tags": []
   },
   "outputs": [
    {
     "name": "stdout",
     "output_type": "stream",
     "text": [
      "Downloading http://yann.lecun.com/exdb/mnist/train-images-idx3-ubyte.gz\n",
      "Downloading http://yann.lecun.com/exdb/mnist/train-images-idx3-ubyte.gz to data\\MNIST\\raw\\train-images-idx3-ubyte.gz\n"
     ]
    },
    {
     "name": "stderr",
     "output_type": "stream",
     "text": [
      "100.0%\n"
     ]
    },
    {
     "name": "stdout",
     "output_type": "stream",
     "text": [
      "Extracting data\\MNIST\\raw\\train-images-idx3-ubyte.gz to data\\MNIST\\raw\n",
      "\n",
      "Downloading http://yann.lecun.com/exdb/mnist/train-labels-idx1-ubyte.gz\n",
      "Downloading http://yann.lecun.com/exdb/mnist/train-labels-idx1-ubyte.gz to data\\MNIST\\raw\\train-labels-idx1-ubyte.gz\n"
     ]
    },
    {
     "name": "stderr",
     "output_type": "stream",
     "text": [
      "100.0%\n"
     ]
    },
    {
     "name": "stdout",
     "output_type": "stream",
     "text": [
      "Extracting data\\MNIST\\raw\\train-labels-idx1-ubyte.gz to data\\MNIST\\raw\n",
      "\n",
      "Downloading http://yann.lecun.com/exdb/mnist/t10k-images-idx3-ubyte.gz\n",
      "Downloading http://yann.lecun.com/exdb/mnist/t10k-images-idx3-ubyte.gz to data\\MNIST\\raw\\t10k-images-idx3-ubyte.gz\n"
     ]
    },
    {
     "name": "stderr",
     "output_type": "stream",
     "text": [
      "100.0%\n"
     ]
    },
    {
     "name": "stdout",
     "output_type": "stream",
     "text": [
      "Extracting data\\MNIST\\raw\\t10k-images-idx3-ubyte.gz to data\\MNIST\\raw\n",
      "\n",
      "Downloading http://yann.lecun.com/exdb/mnist/t10k-labels-idx1-ubyte.gz\n",
      "Downloading http://yann.lecun.com/exdb/mnist/t10k-labels-idx1-ubyte.gz to data\\MNIST\\raw\\t10k-labels-idx1-ubyte.gz\n"
     ]
    },
    {
     "name": "stderr",
     "output_type": "stream",
     "text": [
      "100.0%"
     ]
    },
    {
     "name": "stdout",
     "output_type": "stream",
     "text": [
      "Extracting data\\MNIST\\raw\\t10k-labels-idx1-ubyte.gz to data\\MNIST\\raw\n",
      "\n"
     ]
    },
    {
     "name": "stderr",
     "output_type": "stream",
     "text": [
      "\n"
     ]
    }
   ],
   "source": [
    "train_data = MNIST(root='data', train=True, transform=ToTensor(), download=True)\n",
    "train_loader = DataLoader(train_data, batch_size=128, shuffle=True)"
   ]
  },
  {
   "cell_type": "code",
   "execution_count": 35,
   "id": "aeca0d53-bfab-4224-a18c-9d1e3e0b8f2c",
   "metadata": {
    "tags": []
   },
   "outputs": [],
   "source": [
    "one_sample=None\n",
    "for x,y in (train_loader):\n",
    "    one_sample=x\n",
    "    break\n",
    "    "
   ]
  },
  {
   "cell_type": "code",
   "execution_count": 37,
   "id": "5f1194d3-839e-4469-9dc6-9df9a0bf24cc",
   "metadata": {
    "tags": []
   },
   "outputs": [],
   "source": [
    "torchvision.utils.save_image(x, 'train_data.png', nrow=8, normalize=True)"
   ]
  },
  {
   "cell_type": "markdown",
   "id": "56c70953-8e14-4232-96c3-1d1ae9ddbe9c",
   "metadata": {},
   "source": [
    "![Alt text](train_data.png \"Title\")"
   ]
  },
  {
   "cell_type": "code",
   "execution_count": 24,
   "id": "908cc7dc-aa15-4bde-8de8-d6cd165387f1",
   "metadata": {
    "tags": []
   },
   "outputs": [],
   "source": [
    "loss_list=[]"
   ]
  },
  {
   "cell_type": "markdown",
   "id": "8da42c79-46f2-4bf1-92ea-47dacba2047d",
   "metadata": {},
   "source": [
    "## Training: \n",
    "The VAE is trained by minimizing the loss function with respect to the model parameters using stochastic gradient descent. The training process consists of the following steps:\n",
    "## Forward pass: \n",
    "The input x is passed through the encoder to obtain mu and log_var. A point z is then sampled from the normal distribution in the latent space using mu and log_var. The point z is passed through the decoder to obtain x_hat.\n",
    "## Loss calculation: \n",
    "The reconstruction loss and the KL divergence loss are calculated using x, x_hat, mu, and log_var.\n",
    "## Backward pass: \n",
    "The gradients of the loss with respect to the model parameters are calculated using backpropagation.\n",
    "## Parameter update: \n",
    "The model parameters are updated using the gradients and the chosen optimizer.\n"
   ]
  },
  {
   "cell_type": "code",
   "execution_count": null,
   "id": "a1da486f-87af-4d7f-9423-a054097ec9b3",
   "metadata": {
    "tags": []
   },
   "outputs": [],
   "source": [
    "device = torch.device('cuda' if torch.cuda.is_available() else 'cpu')\n",
    "model = VAE(latent_dim=20).to(device)\n",
    "optimizer = torch.optim.Adam(model.parameters(), lr=1e-3)\n",
    "\n",
    "epochs = 40\n",
    "for epoch in range(epochs):\n",
    "    running_loss = 0.0\n",
    "    for x, _ in train_loader:\n",
    "        x = x.to(device)\n",
    "\n",
    "        # zero the parameter gradients\n",
    "        optimizer.zero_grad()\n",
    "        x_resized = F.interpolate(x, size=(32, 32), mode='bilinear', align_corners=False)\n",
    "        x=x_resized\n",
    "        # forward + backward + optimize\n",
    "        x_hat, mu, logvar = model(x)\n",
    "        loss = vae_loss(x, x_hat, mu, logvar)\n",
    "        loss.backward()\n",
    "        optimizer.step()\n",
    "\n",
    "        running_loss += loss.item()\n",
    "    loss_list.append(running_loss)\n",
    "    \n",
    "\n",
    " "
   ]
  },
  {
   "cell_type": "code",
   "execution_count": 29,
   "id": "53a5ee05-b62e-4ed6-a525-495ffaa8c6db",
   "metadata": {
    "tags": []
   },
   "outputs": [],
   "source": [
    "torch.save(model, \"vae_model\")"
   ]
  },
  {
   "cell_type": "code",
   "execution_count": 28,
   "id": "31d2a65a-2765-473e-8782-5052e7c2a088",
   "metadata": {
    "tags": []
   },
   "outputs": [
    {
     "data": {
      "image/png": "[encoded data removed]",
      "text/plain": [
       "<Figure size 640x480 with 1 Axes>"
      ]
     },
     "metadata": {},
     "output_type": "display_data"
    }
   ],
   "source": [
    "\n",
    "epochs = range(len(loss_list))\n",
    "plt.plot(epochs, loss_list)\n",
    "plt.xlabel('Epoch')\n",
    "plt.ylabel('Loss')\n",
    "plt.show()"
   ]
  },
  {
   "cell_type": "code",
   "execution_count": 20,
   "id": "f1de7422-c576-436f-9d4b-04eaca03c694",
   "metadata": {
    "tags": []
   },
   "outputs": [
    {
     "name": "stdout",
     "output_type": "stream",
     "text": [
      "torch.Size([64, 20])\n",
      "torch.Size([64, 1, 32, 32])\n"
     ]
    }
   ],
   "source": [
    "with torch.no_grad():\n",
    "    z = torch.randn(64, 20).to(device)\n",
    "    print(z.shape)\n",
    "    x_hat = model.decode(z).cpu()\n",
    "    print(x_hat.shape)\n",
    "    # save the generated images to a file\n",
    "    torchvision.utils.save_image(x_hat, 'generated_images3.png', nrow=8, normalize=True)"
   ]
  },
  {
   "cell_type": "markdown",
   "id": "f0fa8869-2d5e-4411-a445-a91f23f8289d",
   "metadata": {
    "tags": []
   },
   "source": [
    "![Alt text](generated_images3.png \"Title\")"
   ]
  }
 ],
 "metadata": {
  "kernelspec": {
   "display_name": "Python 3 (ipykernel)",
   "language": "python",
   "name": "python3"
  },
  "language_info": {
   "codemirror_mode": {
    "name": "ipython",
    "version": 3
   },
   "file_extension": ".py",
   "mimetype": "text/x-python",
   "name": "python",
   "nbconvert_exporter": "python",
   "pygments_lexer": "ipython3",
   "version": "3.8.0"
  }
 },
 "nbformat": 4,
 "nbformat_minor": 5
}
